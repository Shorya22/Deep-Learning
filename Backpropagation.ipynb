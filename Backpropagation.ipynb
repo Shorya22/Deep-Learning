{
 "cells": [
  {
   "cell_type": "code",
   "execution_count": 176,
   "metadata": {},
   "outputs": [],
   "source": [
    "import pandas as pd\n",
    "import numpy as np"
   ]
  },
  {
   "cell_type": "code",
   "execution_count": 177,
   "metadata": {},
   "outputs": [],
   "source": [
    "X1=np.array([6.3,7.2,9,8.4])\n",
    "X2=np.array([7,6.9,9,8.1])\n",
    "y= np.array([7.8,8.1,12.8,10.4])"
   ]
  },
  {
   "cell_type": "markdown",
   "metadata": {},
   "source": [
    "## Forward Propagation:"
   ]
  },
  {
   "cell_type": "code",
   "execution_count": 178,
   "metadata": {},
   "outputs": [],
   "source": [
    "# Given weights and biases\n",
    "w1_11, w1_21, w1_12, w1_22 = 1, 1, 1, 1\n",
    "b11, b12 = 0, 0\n",
    "w2_11, w2_21 = 1, 1\n",
    "b21=0\n",
    "\n",
    "# Learning rate and epochs\n",
    "lr = 0.0042\n",
    "epochs = 10000"
   ]
  },
  {
   "cell_type": "code",
   "execution_count": 179,
   "metadata": {},
   "outputs": [],
   "source": [
    "# output for hidden layers\n",
    "    # Node-1\n",
    "z1=X1*w1_11+X2*w1_21+b11\n",
    "    # Node-1\n",
    "z2=X1*w1_12+X2*w1_22+b12\n",
    "\n"
   ]
  },
  {
   "cell_type": "code",
   "execution_count": 180,
   "metadata": {},
   "outputs": [],
   "source": [
    "y_hat= z1*w2_11+z2*w2_21+b21"
   ]
  },
  {
   "cell_type": "code",
   "execution_count": 181,
   "metadata": {},
   "outputs": [
    {
     "data": {
      "text/plain": [
       "array([26.6, 28.2, 36. , 33. ])"
      ]
     },
     "execution_count": 181,
     "metadata": {},
     "output_type": "execute_result"
    }
   ],
   "source": [
    "y_hat"
   ]
  },
  {
   "cell_type": "markdown",
   "metadata": {},
   "source": [
    "## Backward Propagation:"
   ]
  },
  {
   "cell_type": "code",
   "execution_count": 182,
   "metadata": {},
   "outputs": [],
   "source": [
    "loss= 1/2*sum((y-y_hat)**2)"
   ]
  },
  {
   "cell_type": "code",
   "execution_count": 183,
   "metadata": {},
   "outputs": [
    {
     "data": {
      "text/plain": [
       "903.225"
      ]
     },
     "execution_count": 183,
     "metadata": {},
     "output_type": "execute_result"
    }
   ],
   "source": [
    "loss"
   ]
  },
  {
   "cell_type": "code",
   "execution_count": 184,
   "metadata": {},
   "outputs": [
    {
     "name": "stdout",
     "output_type": "stream",
     "text": [
      "Epoch 1, Loss: 3750489.708115759\n"
     ]
    },
    {
     "name": "stderr",
     "output_type": "stream",
     "text": [
      "C:\\Users\\Shorya Sharma\\AppData\\Local\\Temp\\ipykernel_14968\\1107075269.py:12: RuntimeWarning: overflow encountered in multiply\n",
      "  dl_dw1_11 = -2 * (y[i] - y_hat) * w2_11 * X1[i]\n",
      "C:\\Users\\Shorya Sharma\\AppData\\Local\\Temp\\ipykernel_14968\\1107075269.py:13: RuntimeWarning: overflow encountered in multiply\n",
      "  dl_dw1_21 = -2 * (y[i] - y_hat) * w2_11 * X2[i]\n",
      "C:\\Users\\Shorya Sharma\\AppData\\Local\\Temp\\ipykernel_14968\\1107075269.py:16: RuntimeWarning: overflow encountered in multiply\n",
      "  dl_dw1_12 = -2 * (y[i] - y_hat) * w2_21 * X1[i]\n",
      "C:\\Users\\Shorya Sharma\\AppData\\Local\\Temp\\ipykernel_14968\\1107075269.py:17: RuntimeWarning: overflow encountered in multiply\n",
      "  dl_dw1_22 = -2 * (y[i] - y_hat) * w2_21 * X2[i]\n",
      "C:\\Users\\Shorya Sharma\\AppData\\Local\\Temp\\ipykernel_14968\\1107075269.py:14: RuntimeWarning: overflow encountered in multiply\n",
      "  dl_db11 = -2 * (y[i] - y_hat) * w2_11\n",
      "C:\\Users\\Shorya Sharma\\AppData\\Local\\Temp\\ipykernel_14968\\1107075269.py:18: RuntimeWarning: overflow encountered in multiply\n",
      "  dl_db12 = -2 * (y[i] - y_hat) * w2_21\n",
      "C:\\Users\\Shorya Sharma\\AppData\\Local\\Temp\\ipykernel_14968\\1107075269.py:32: RuntimeWarning: overflow encountered in square\n",
      "  loss = 1/2 * sum((y - y_hat)**2)\n",
      "C:\\Users\\Shorya Sharma\\AppData\\Local\\Temp\\ipykernel_14968\\1107075269.py:8: RuntimeWarning: overflow encountered in multiply\n",
      "  dl_dw2_11 = -2 * (y[i] - y_hat) * z1\n",
      "C:\\Users\\Shorya Sharma\\AppData\\Local\\Temp\\ipykernel_14968\\1107075269.py:9: RuntimeWarning: overflow encountered in multiply\n",
      "  dl_dw2_21 = -2 * (y[i] - y_hat) * z2\n",
      "C:\\Users\\Shorya Sharma\\AppData\\Local\\Temp\\ipykernel_14968\\1107075269.py:27: RuntimeWarning: invalid value encountered in subtract\n",
      "  w2_11 = w2_11 - lr * dl_dw2_11\n",
      "C:\\Users\\Shorya Sharma\\AppData\\Local\\Temp\\ipykernel_14968\\1107075269.py:28: RuntimeWarning: invalid value encountered in subtract\n",
      "  w2_21 = w2_21 - lr * dl_dw2_21\n"
     ]
    },
    {
     "name": "stdout",
     "output_type": "stream",
     "text": [
      "Epoch 1001, Loss: nan\n",
      "Epoch 2001, Loss: nan\n",
      "Epoch 3001, Loss: nan\n",
      "Epoch 4001, Loss: nan\n",
      "Epoch 5001, Loss: nan\n",
      "Epoch 6001, Loss: nan\n",
      "Epoch 7001, Loss: nan\n",
      "Epoch 8001, Loss: nan\n",
      "Epoch 9001, Loss: nan\n",
      "Final Weights and Biases:\n",
      "w1_11: [nan nan nan nan], w1_21: [nan nan nan nan], w1_12: [nan nan nan nan], w1_22: [nan nan nan nan], b11: [nan nan nan nan], b12: [nan nan nan nan], w2_11: [nan nan nan nan], w2_21: [nan nan nan nan], b21: [nan nan nan nan]\n"
     ]
    }
   ],
   "source": [
    "for epoch in range(epochs):\n",
    "    for i in range(len(X1)):\n",
    "        # Forward Pass\n",
    "        z1 = X1[i] * w1_11 + X2[i] * w1_21 + b11\n",
    "        z2 = X1[i] * w1_12 + X2[i] * w1_22 + b12\n",
    "        y_hat = z1 * w2_11 + z2 * w2_21 + b21\n",
    "\n",
    "        # Backpropagation and find derivatives\n",
    "        dl_dw2_11 = -2 * (y[i] - y_hat) * z1\n",
    "        dl_dw2_21 = -2 * (y[i] - y_hat) * z2\n",
    "        dl_db21 = -2 * (y[i] - y_hat)\n",
    "\n",
    "        dl_dw1_11 = -2 * (y[i] - y_hat) * w2_11 * X1[i]\n",
    "        dl_dw1_21 = -2 * (y[i] - y_hat) * w2_11 * X2[i]\n",
    "        dl_db11 = -2 * (y[i] - y_hat) * w2_11\n",
    "\n",
    "        dl_dw1_12 = -2 * (y[i] - y_hat) * w2_21 * X1[i]\n",
    "        dl_dw1_22 = -2 * (y[i] - y_hat) * w2_21 * X2[i]\n",
    "        dl_db12 = -2 * (y[i] - y_hat) * w2_21\n",
    "\n",
    "        # Update Weights and Biases\n",
    "        w1_11 = w1_11 - lr * dl_dw1_11\n",
    "        w1_21 = w1_21 - lr * dl_dw1_21\n",
    "        w1_12 = w1_12 - lr * dl_dw1_12\n",
    "        w1_22 = w1_22 - lr * dl_dw1_22\n",
    "        b11 = b11 - lr * dl_db11\n",
    "        b12 = b12 - lr * dl_db12\n",
    "        w2_11 = w2_11 - lr * dl_dw2_11\n",
    "        w2_21 = w2_21 - lr * dl_dw2_21\n",
    "        b21 = b21 - lr * dl_db21\n",
    "\n",
    "    # Calculate Loss after each epoch\n",
    "    loss = 1/2 * sum((y - y_hat)**2)\n",
    "\n",
    "    if epoch % 1000 == 0:\n",
    "        print(f'Epoch {epoch + 1}, Loss: {loss}')\n",
    "\n",
    "\n",
    "print(f\"Final Weights and Biases:\")\n",
    "print(f\"w1_11: {w1_11}, w1_21: {w1_21}, w1_12: {w1_12}, w1_22: {w1_22}, b11: {b11}, b12: {b12}, w2_11: {w2_11}, w2_21: {w2_21}, b21: {b21}\")\n"
   ]
  },
  {
   "cell_type": "code",
   "execution_count": 185,
   "metadata": {},
   "outputs": [
    {
     "name": "stdout",
     "output_type": "stream",
     "text": [
      "Predicted Values (y_pred):\n",
      "[[nan nan nan nan]\n",
      " [nan nan nan nan]\n",
      " [nan nan nan nan]\n",
      " [nan nan nan nan]]\n"
     ]
    }
   ],
   "source": [
    "# Initialize y_pred array\n",
    "y_pred = []\n",
    "\n",
    "# Forward Pass with final weights and biases\n",
    "for i in range(len(X1)):\n",
    "    z1 = X1[i] * w1_11 + X2[i] * w1_21 + b11\n",
    "    z2 = X1[i] * w1_12 + X2[i] * w1_22 + b12\n",
    "    y_pred_i = z1 * w2_11 + z2 * w2_21 + b21\n",
    "\n",
    "    # Append the predicted value to y_pred\n",
    "    y_pred.append(y_pred_i)\n",
    "\n",
    "# Convert y_pred to a NumPy array for easier handling\n",
    "y_pred = np.array(y_pred)\n",
    "\n",
    "# Print or use y_pred as needed\n",
    "print(\"Predicted Values (y_pred):\")\n",
    "print(y_pred)\n"
   ]
  },
  {
   "cell_type": "code",
   "execution_count": 186,
   "metadata": {},
   "outputs": [
    {
     "data": {
      "text/plain": [
       "array([ 7.8,  8.1, 12.8, 10.4])"
      ]
     },
     "execution_count": 186,
     "metadata": {},
     "output_type": "execute_result"
    }
   ],
   "source": [
    "y"
   ]
  },
  {
   "cell_type": "code",
   "execution_count": 187,
   "metadata": {},
   "outputs": [
    {
     "data": {
      "text/plain": [
       "nan"
      ]
     },
     "execution_count": 187,
     "metadata": {},
     "output_type": "execute_result"
    }
   ],
   "source": [
    "loss"
   ]
  },
  {
   "cell_type": "code",
   "execution_count": null,
   "metadata": {},
   "outputs": [],
   "source": []
  }
 ],
 "metadata": {
  "kernelspec": {
   "display_name": "Python 3",
   "language": "python",
   "name": "python3"
  },
  "language_info": {
   "codemirror_mode": {
    "name": "ipython",
    "version": 3
   },
   "file_extension": ".py",
   "mimetype": "text/x-python",
   "name": "python",
   "nbconvert_exporter": "python",
   "pygments_lexer": "ipython3",
   "version": "3.11.5"
  }
 },
 "nbformat": 4,
 "nbformat_minor": 2
}
